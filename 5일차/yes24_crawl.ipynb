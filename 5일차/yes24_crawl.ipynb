{
 "cells": [
  {
   "cell_type": "markdown",
   "metadata": {},
   "source": [
    "# 예스24 크롤링"
   ]
  },
  {
   "cell_type": "code",
   "execution_count": 17,
   "metadata": {},
   "outputs": [
    {
     "data": {
      "text/plain": [
       "'/Users/mac/.wdm/drivers/chromedriver/mac64/129.0.6668.89/chromedriver-mac-x64/chromedriver'"
      ]
     },
     "execution_count": 17,
     "metadata": {},
     "output_type": "execute_result"
    }
   ],
   "source": [
    "from webdriver_manager.chrome import ChromeDriverManager\n",
    "ChromeDriverManager().install()"
   ]
  },
  {
   "cell_type": "code",
   "execution_count": 56,
   "metadata": {},
   "outputs": [],
   "source": [
    "from selenium import webdriver\n",
    "browser = webdriver.Chrome()"
   ]
  },
  {
   "cell_type": "code",
   "execution_count": 57,
   "metadata": {},
   "outputs": [],
   "source": [
    "url = 'https://google.com'\n",
    "browser.get(url)"
   ]
  },
  {
   "cell_type": "code",
   "execution_count": 15,
   "metadata": {},
   "outputs": [
    {
     "data": {
      "text/plain": [
       "'대한민국'"
      ]
     },
     "execution_count": 15,
     "metadata": {},
     "output_type": "execute_result"
    }
   ],
   "source": [
    "from selenium.webdriver.common.by import By\n",
    "\n",
    "browser.find_element(By.CLASS_NAME, 'uU7dJb').text"
   ]
  },
  {
   "cell_type": "code",
   "execution_count": 58,
   "metadata": {},
   "outputs": [],
   "source": [
    "url = 'https://www.yes24.com/Product/category/bestseller?CategoryNumber=001&sumgb=06'\n",
    "browser.get(url)"
   ]
  },
  {
   "cell_type": "code",
   "execution_count": 30,
   "metadata": {},
   "outputs": [
    {
     "name": "stdout",
     "output_type": "stream",
     "text": [
      "https://www.yes24.com/Product/Goods/133213071\n",
      "https://www.yes24.com/Product/Goods/133870359\n",
      "https://www.yes24.com/Product/Goods/125557465\n",
      "https://www.yes24.com/Product/Goods/131930939\n",
      "https://www.yes24.com/Product/Goods/104663596\n",
      "https://www.yes24.com/Product/Goods/133312039\n",
      "https://www.yes24.com/Product/Goods/133199014\n",
      "https://www.yes24.com/Product/Goods/133236068\n",
      "https://www.yes24.com/Product/Goods/132560712\n",
      "https://www.yes24.com/Product/Goods/128266166\n",
      "https://www.yes24.com/Product/Goods/117014613\n",
      "https://www.yes24.com/Product/Goods/124999476\n",
      "https://www.yes24.com/Product/Goods/129602366\n",
      "https://www.yes24.com/Product/Goods/132181262\n",
      "https://www.yes24.com/Product/Goods/130135671\n",
      "https://www.yes24.com/Product/Goods/130174102\n",
      "https://www.yes24.com/Product/Goods/8759796\n",
      "https://www.yes24.com/Product/Goods/132565140\n",
      "https://www.yes24.com/Product/Goods/102457889\n",
      "https://www.yes24.com/Product/Goods/124043812\n",
      "https://www.yes24.com/Product/Goods/130500819\n",
      "https://www.yes24.com/Product/Goods/133824761\n",
      "https://www.yes24.com/Product/Goods/133813184\n",
      "https://www.yes24.com/Product/Goods/124043802\n"
     ]
    }
   ],
   "source": [
    "#1페이지의 링크 데이터 전부 수집\n",
    "browser.find_element(By.CLASS_NAME, 'gd_name').get_attribute('href')\n",
    "\n",
    "###1페이지 전체의 링크 데이터\n",
    "#browser.find_element(By.CLASS_NAME, 'gd_name') # element: 요소\n",
    "datas = browser.find_elements(By.CLASS_NAME, 'gd_name') # elements: 리스트\n",
    "\n",
    "for i in datas:\n",
    "    print(i.get_attribute('href'))\n",
    "\n",
    "\n"
   ]
  },
  {
   "cell_type": "code",
   "execution_count": 59,
   "metadata": {},
   "outputs": [
    {
     "name": "stdout",
     "output_type": "stream",
     "text": [
      "********** 현재 1 페이지 수집 중 입니다. **********\n",
      "********** 현재 2 페이지 수집 중 입니다. **********\n",
      "********** 현재 3 페이지 수집 중 입니다. **********\n",
      "['https://www.yes24.com/Product/Goods/133213071', 'https://www.yes24.com/Product/Goods/125557465', 'https://www.yes24.com/Product/Goods/133870359', 'https://www.yes24.com/Product/Goods/131930939', 'https://www.yes24.com/Product/Goods/104663596', 'https://www.yes24.com/Product/Goods/133312039', 'https://www.yes24.com/Product/Goods/133236068', 'https://www.yes24.com/Product/Goods/133199014', 'https://www.yes24.com/Product/Goods/132560712', 'https://www.yes24.com/Product/Goods/117014613', 'https://www.yes24.com/Product/Goods/128266166', 'https://www.yes24.com/Product/Goods/124999476', 'https://www.yes24.com/Product/Goods/8759796', 'https://www.yes24.com/Product/Goods/129602366', 'https://www.yes24.com/Product/Goods/102457889', 'https://www.yes24.com/Product/Goods/130174102', 'https://www.yes24.com/Product/Goods/133824761', 'https://www.yes24.com/Product/Goods/130135671', 'https://www.yes24.com/Product/Goods/132565140', 'https://www.yes24.com/Product/Goods/132181262', 'https://www.yes24.com/Product/Goods/124043812', 'https://www.yes24.com/Product/Goods/133813184', 'https://www.yes24.com/Product/Goods/118322901', 'https://www.yes24.com/Product/Goods/124043802', 'https://www.yes24.com/Product/Goods/133138701', 'https://www.yes24.com/Product/Goods/96547408', 'https://www.yes24.com/Product/Goods/130500819', 'https://www.yes24.com/Product/Goods/124539805', 'https://www.yes24.com/Product/Goods/122120495', 'https://www.yes24.com/Product/Goods/133896038', 'https://www.yes24.com/Product/Goods/129124029', 'https://www.yes24.com/Product/Goods/116586303', 'https://www.yes24.com/Product/Goods/123930880', 'https://www.yes24.com/Product/Goods/133128647', 'https://www.yes24.com/Product/Goods/123930891', 'https://www.yes24.com/Product/Goods/132772043', 'https://www.yes24.com/Product/Goods/104687898', 'https://www.yes24.com/Product/Goods/133757215', 'https://www.yes24.com/Product/Goods/133756359', 'https://www.yes24.com/Product/Goods/95721612', 'https://www.yes24.com/Product/Goods/128917300', 'https://www.yes24.com/Product/Goods/132190133', 'https://www.yes24.com/Product/Goods/109145992', 'https://www.yes24.com/Product/Goods/124225606', 'https://www.yes24.com/Product/Goods/67362730', 'https://www.yes24.com/Product/Goods/133812270', 'https://www.yes24.com/Product/Goods/132754223', 'https://www.yes24.com/Product/Goods/128133897', 'https://www.yes24.com/Product/Goods/125295101', 'https://www.yes24.com/Product/Goods/108192000', 'https://www.yes24.com/Product/Goods/133741785', 'https://www.yes24.com/Product/Goods/23030284', 'https://www.yes24.com/Product/Goods/79297023', 'https://www.yes24.com/Product/Goods/129094064', 'https://www.yes24.com/Product/Goods/132619282', 'https://www.yes24.com/Product/Goods/2312211', 'https://www.yes24.com/Product/Goods/110641272', 'https://www.yes24.com/Product/Goods/111680193', 'https://www.yes24.com/Product/Goods/133127953', 'https://www.yes24.com/Product/Goods/121507789', 'https://www.yes24.com/Product/Goods/124219505', 'https://www.yes24.com/Product/Goods/134021280', 'https://www.yes24.com/Product/Goods/11081680', 'https://www.yes24.com/Product/Goods/118578901', 'https://www.yes24.com/Product/Goods/133811843', 'https://www.yes24.com/Product/Goods/124409868', 'https://www.yes24.com/Product/Goods/133821851', 'https://www.yes24.com/Product/Goods/125492144', 'https://www.yes24.com/Product/Goods/125992096', 'https://www.yes24.com/Product/Goods/67114707', 'https://www.yes24.com/Product/Goods/134021461', 'https://www.yes24.com/Product/Goods/125995791']\n"
     ]
    }
   ],
   "source": [
    "#https://www.yes24.com/Product/Category/BestSeller?categoryNumber=001&pageNumber=1&pageSize=24\n",
    "#https://www.yes24.com/Product/Category/BestSeller?categoryNumber=001&pageNumber=2&pageSize=24\n",
    "#https://www.yes24.com/Product/Category/BestSeller?categoryNumber=001&pageNumber=3&pageSize=24\n",
    "\n",
    "import time\n",
    "\n",
    "link_list = []\n",
    "for i in range(1,4):\n",
    "    print(\"*\" * 10, f\"현재 {i} 페이지 수집 중 입니다.\", \"*\" * 10)\n",
    "\n",
    "    url = f'https://www.yes24.com/Product/Category/BestSeller?categoryNumber=001&pageNumber={i}&pageSize=24'\n",
    "    browser.get(url)\n",
    "\n",
    "    #1페이지의 링크 데이터 전부 수집\n",
    "    browser.find_element(By.CLASS_NAME, 'gd_name').get_attribute('href')\n",
    "\n",
    "    ###1페이지 전체의 링크 데이터\n",
    "    #browser.find_element(By.CLASS_NAME, 'gd_name') # element: 요소\n",
    "    datas = browser.find_elements(By.CLASS_NAME, 'gd_name') # elements: 리스트\n",
    "\n",
    "    for i in datas:\n",
    "        link = i.get_attribute('href')\n",
    "        link_list.append(link)\n",
    "\n",
    "\n",
    "    time.sleep(3)\n",
    "    \n",
    "print(link_list)    "
   ]
  },
  {
   "cell_type": "code",
   "execution_count": 36,
   "metadata": {},
   "outputs": [
    {
     "data": {
      "text/plain": [
       "72"
      ]
     },
     "execution_count": 36,
     "metadata": {},
     "output_type": "execute_result"
    }
   ],
   "source": [
    "len(link_list)"
   ]
  },
  {
   "cell_type": "code",
   "execution_count": 60,
   "metadata": {},
   "outputs": [
    {
     "ename": "AttributeError",
     "evalue": "'WebDriver' object has no attribute 'find_elemenet'",
     "output_type": "error",
     "traceback": [
      "\u001b[0;31m---------------------------------------------------------------------------\u001b[0m",
      "\u001b[0;31mAttributeError\u001b[0m                            Traceback (most recent call last)",
      "Cell \u001b[0;32mIn[60], line 4\u001b[0m\n\u001b[1;32m      1\u001b[0m browser\u001b[38;5;241m.\u001b[39mget(link_list[\u001b[38;5;241m0\u001b[39m])\n\u001b[1;32m      3\u001b[0m title \u001b[38;5;241m=\u001b[39m browser\u001b[38;5;241m.\u001b[39mfind_element(By\u001b[38;5;241m.\u001b[39mCLASS_NAME, \u001b[38;5;124m'\u001b[39m\u001b[38;5;124mgd_name\u001b[39m\u001b[38;5;124m'\u001b[39m)\u001b[38;5;241m.\u001b[39mtext\n\u001b[0;32m----> 4\u001b[0m author \u001b[38;5;241m=\u001b[39m \u001b[43mbrowser\u001b[49m\u001b[38;5;241;43m.\u001b[39;49m\u001b[43mfind_elemenet\u001b[49m(By\u001b[38;5;241m.\u001b[39mCLASS_NAME, \u001b[38;5;124m'\u001b[39m\u001b[38;5;124mgd_auth\u001b[39m\u001b[38;5;124m'\u001b[39m)\u001b[38;5;241m.\u001b[39mtext\n",
      "\u001b[0;31mAttributeError\u001b[0m: 'WebDriver' object has no attribute 'find_elemenet'"
     ]
    }
   ],
   "source": [
    "browser.get(link_list[0])\n",
    "\n",
    "title = browser.find_element(By.CLASS_NAME, 'gd_name').text\n",
    "author = browser.find_elemenet(By.CLASS_NAME, 'gd_auth').text\n"
   ]
  },
  {
   "cell_type": "code",
   "execution_count": null,
   "metadata": {},
   "outputs": [],
   "source": [
    "import pymysql\n",
    "\n",
    "conn = pymysql.connect(\n",
    "    host='localhost',\n",
    "    user='root',\n",
    "    paddword='class-password',\n",
    "    db='yes24',\n",
    "    charset='utf8mb4'\n",
    "    cursorclass=pymysql.cursors.DictCursor\n",
    ")"
   ]
  }
 ],
 "metadata": {
  "kernelspec": {
   "display_name": "Python 3",
   "language": "python",
   "name": "python3"
  },
  "language_info": {
   "codemirror_mode": {
    "name": "ipython",
    "version": 3
   },
   "file_extension": ".py",
   "mimetype": "text/x-python",
   "name": "python",
   "nbconvert_exporter": "python",
   "pygments_lexer": "ipython3",
   "version": "3.12.5"
  }
 },
 "nbformat": 4,
 "nbformat_minor": 2
}
